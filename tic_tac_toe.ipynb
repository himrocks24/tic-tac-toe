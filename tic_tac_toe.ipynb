{
 "cells": [
  {
   "cell_type": "markdown",
   "metadata": {},
   "source": [
    "# 2-Player Tic-Tac-Toe ------------developed by kobe(coditas)"
   ]
  },
  {
   "cell_type": "markdown",
   "metadata": {},
   "source": [
    "## Game Rules:\n",
    "    1. Two players should be able to(both sitting at the same computer)\n",
    "    2. The board should be printed out every time a player makes a move.\n",
    "    3. Input of the player position should be accepted and then symbol should be placed on the board\n",
    "    4. Numpad should match to the grid on a tic-tac-toe board. i.e eg \"7\" on numpad == top left cell of the tic-tac-toe board.\n",
    "    \n",
    "    "
   ]
  },
  {
   "cell_type": "code",
   "execution_count": 1,
   "metadata": {},
   "outputs": [],
   "source": [
    "def print_list(lst):\n",
    "    print(\"|\",end=\"\")\n",
    "    for i in lst:\n",
    "        print(str(i) + \"|\",end=\"\")\n",
    "    print()\n",
    "    print(\"~\"*7)"
   ]
  },
  {
   "cell_type": "code",
   "execution_count": 2,
   "metadata": {},
   "outputs": [],
   "source": [
    "def welcome():\n",
    "    print(\"Welcome to Tic-Tac-Toe------------developed by kobe(coditas)\")"
   ]
  },
  {
   "cell_type": "code",
   "execution_count": 3,
   "metadata": {},
   "outputs": [],
   "source": [
    "def display(lst1,lst2,lst3):\n",
    "    print_list(lst1)\n",
    "    print_list(lst2)\n",
    "    print_list(lst3)"
   ]
  },
  {
   "cell_type": "code",
   "execution_count": 4,
   "metadata": {},
   "outputs": [],
   "source": [
    "def handle_assignment():\n",
    "    handle1 = input(\"Player 1 : Enter your gaming handle : \\n\")\n",
    "    handle2 = input(\"Player 2 : Enter your gaming handle : \\n\")\n",
    "    return handle1,handle2\n",
    "    "
   ]
  },
  {
   "cell_type": "code",
   "execution_count": 5,
   "metadata": {},
   "outputs": [],
   "source": [
    "def choose_sign(handle1,handle2):\n",
    "    sign =\"random string so that the while loop gets executed\"\n",
    "    while sign not in ['0','1']:\n",
    "        sign = input(\"Hey {}, What do you want to choose 'X' or'0' .\\n PRESS '1' for 'X'.\\n PRESS '0' for '0'.\\n \".format(handle1))\n",
    "        if sign == '1' :\n",
    "            print(\"{} will play as 'X'\".format(handle1))\n",
    "            print(\"{} will play as '0'\".format(handle2))\n",
    "            player1 = (handle1,\"X\")\n",
    "            player2 = (handle2,\"0\")\n",
    "            return [player1,player2]\n",
    "        elif sign == '0':\n",
    "            print(\"{} will play as '0'\".format(handle1))\n",
    "            print(\"{} will play as 'X'\".format(handle2))\n",
    "            player1 = (handle1,\"0\")\n",
    "            player2 = (handle2,\"X\")\n",
    "            return [player1,player2]\n",
    "        else :\n",
    "            print(\"PLEASE ENTER A VALID INPUT i.e. \\n PRESS '1' for 'X'.\\n PRESS '0' for '0'.\\n \")"
   ]
  },
  {
   "cell_type": "code",
   "execution_count": 6,
   "metadata": {},
   "outputs": [],
   "source": [
    "def gayab(st):\n",
    "    s1 = st[2:]\n",
    "    s2 = s1[::-1][2:]\n",
    "    s3 = s2[::-1]\n",
    "    \n",
    "    return s3"
   ]
  },
  {
   "cell_type": "code",
   "execution_count": 7,
   "metadata": {},
   "outputs": [],
   "source": [
    "def message(lis):\n",
    "    print(\"--------------- Lets start the game !! ----------------\\n\")\n",
    "    print(\"{} will start first \\n\".format(lis[0][0]))"
   ]
  },
  {
   "cell_type": "code",
   "execution_count": 32,
   "metadata": {},
   "outputs": [],
   "source": [
    "def input_it(lis,lst1,lst2,lst3):\n",
    "    logic = False\n",
    "    chances_played = 0\n",
    "    while not(logic) and chances_played<9:\n",
    "        logic = game_logic(lst1,lst2,lst3)\n",
    "        print(\"{},\".format(lis[0][0]))\n",
    "        ip1 = int(input(\" Enter your tic tac toe choice (1-9) : \\n\"))\n",
    "        feed_player_1(lis,ip1,lst1,lst2,lst3)\n",
    "        chances_played +=1\n",
    "        if chances_played >=9:\n",
    "            continue\n",
    "        display(lst1,lst2,lst3)\n",
    "        if game_logic(lst1,lst2,lst3):\n",
    "            return print(\"Congrats {} You've WON\".format(lis[0][0]))\n",
    "        print(\"{},\".format(lis[1][0]))\n",
    "        ip2 = int(input(\" Enter your tic tac toe choice (1-9) : \\n\"))\n",
    "        feed_player_2(lis,ip2,lst1,lst2,lst3)\n",
    "        chances_played +=1\n",
    "        display(lst1,lst2,lst3)\n",
    "        if game_logic(lst1,lst2,lst3):\n",
    "            return print(\"Congrats {} You've WON\".format(lis[1][0]))\n",
    "    else: \n",
    "        display(lst1,lst2,lst3)\n",
    "        print(\"MATCH DRAWN\")"
   ]
  },
  {
   "cell_type": "code",
   "execution_count": 10,
   "metadata": {},
   "outputs": [],
   "source": [
    "def feed_player_1(lis,no,lst1,lst2,lst3):\n",
    "    position = (no+2)%3\n",
    "    if no in range(1,4):\n",
    "        lst3[position] = lis[0][1]\n",
    "    elif no in range(4,7):\n",
    "        lst2[position] = lis[0][1]\n",
    "    elif no in range(7,10):\n",
    "        lst1[position] = lis[0][1]"
   ]
  },
  {
   "cell_type": "code",
   "execution_count": 11,
   "metadata": {},
   "outputs": [],
   "source": [
    "def feed_player_2(lis,no,lst1,lst2,lst3):\n",
    "    position = (no+2)%3\n",
    "    if no in range(1,4):\n",
    "        lst3[position] = lis[1][1]\n",
    "    elif no in range(4,7):\n",
    "        lst2[position] = lis[1][1]\n",
    "    elif no in range(7,10):\n",
    "        lst1[position] = lis[1][1]\n",
    "        "
   ]
  },
  {
   "cell_type": "code",
   "execution_count": 12,
   "metadata": {},
   "outputs": [],
   "source": [
    "def game_logic(lst1,lst2,lst3):\n",
    "    #### horizontal layers\n",
    "    condition1 = (lst1[0]==lst1[1]==lst1[2]==\"X\" or lst1[0]==lst1[1]==lst1[2]==\"0\" ) or (lst2[0]==lst2[1]==lst2[2]==\"X\" or lst2[0]==lst2[1]==lst2[2]==\"0\") or (lst3[0]==lst3[1]==lst3[2]==\"X\" or lst3[0]==lst3[1]==lst3[2]==\"0\" )\n",
    "    #### vetical layers\n",
    "    condition2 = (lst1[0]==lst2[0]==lst3[0]==\"X\" or lst1[0]==lst2[0]==lst3[0]==\"0\" ) or (lst1[1]==lst2[1]==lst3[1]==\"X\" or lst1[1]==lst2[1]==lst3[1]==\"0\") or (lst1[2]==lst2[2]==lst3[2]==\"X\" or lst1[2]==lst2[2]==lst3[2]==\"0\") \n",
    "    #### diagonal check\n",
    "    condition3 = (lst1[0]==lst2[1]==lst3[2]==\"X\" or lst1[0]==lst2[1]==lst3[2]==\"0\" ) or (lst1[2]==lst2[1]==lst3[0]==\"X\" or lst1[2]==lst2[1]==lst3[0]==\"0\")\n",
    "    \n",
    "    if condition1 or condition2 or condition3:\n",
    "        return True \n",
    "    else:\n",
    "        return False"
   ]
  },
  {
   "cell_type": "code",
   "execution_count": 33,
   "metadata": {},
   "outputs": [
    {
     "name": "stdout",
     "output_type": "stream",
     "text": [
      "Welcome to Tic-Tac-Toe------------developed by kobe(coditas)\n",
      "| | | |\n",
      "~~~~~~~\n",
      "| | | |\n",
      "~~~~~~~\n",
      "| | | |\n",
      "~~~~~~~\n",
      "Player 1 : Enter your gaming handle : \n",
      "kobe\n",
      "Player 2 : Enter your gaming handle : \n",
      "vanessa\n",
      "Hey kobe, What do you want to choose 'X' or'0' .\n",
      " PRESS '1' for 'X'.\n",
      " PRESS '0' for '0'.\n",
      " 1\n",
      "kobe will play as 'X'\n",
      "vanessa will play as '0'\n",
      "--------------- Lets start the game !! ----------------\n",
      "\n",
      "kobe will start first \n",
      "\n",
      "| | | |\n",
      "~~~~~~~\n",
      "| | | |\n",
      "~~~~~~~\n",
      "| | | |\n",
      "~~~~~~~\n",
      "kobe,\n",
      " Enter your tic tac toe choice (1-9) : \n",
      "7\n",
      "|X| | |\n",
      "~~~~~~~\n",
      "| | | |\n",
      "~~~~~~~\n",
      "| | | |\n",
      "~~~~~~~\n",
      "vanessa,\n",
      " Enter your tic tac toe choice (1-9) : \n",
      "5\n",
      "|X| | |\n",
      "~~~~~~~\n",
      "| |0| |\n",
      "~~~~~~~\n",
      "| | | |\n",
      "~~~~~~~\n",
      "kobe,\n",
      " Enter your tic tac toe choice (1-9) : \n",
      "3\n",
      "|X| | |\n",
      "~~~~~~~\n",
      "| |0| |\n",
      "~~~~~~~\n",
      "| | |X|\n",
      "~~~~~~~\n",
      "vanessa,\n",
      " Enter your tic tac toe choice (1-9) : \n",
      "1\n",
      "|X| | |\n",
      "~~~~~~~\n",
      "| |0| |\n",
      "~~~~~~~\n",
      "|0| |X|\n",
      "~~~~~~~\n",
      "kobe,\n",
      " Enter your tic tac toe choice (1-9) : \n",
      "9\n",
      "|X| |X|\n",
      "~~~~~~~\n",
      "| |0| |\n",
      "~~~~~~~\n",
      "|0| |X|\n",
      "~~~~~~~\n",
      "vanessa,\n",
      " Enter your tic tac toe choice (1-9) : \n",
      "8\n",
      "|X|0|X|\n",
      "~~~~~~~\n",
      "| |0| |\n",
      "~~~~~~~\n",
      "|0| |X|\n",
      "~~~~~~~\n",
      "kobe,\n",
      " Enter your tic tac toe choice (1-9) : \n",
      "6\n",
      "|X|0|X|\n",
      "~~~~~~~\n",
      "| |0|X|\n",
      "~~~~~~~\n",
      "|0| |X|\n",
      "~~~~~~~\n",
      "Congrats kobe You've WON\n"
     ]
    }
   ],
   "source": [
    "### Driver Code\n",
    "welcome()\n",
    "\n",
    "lst1,lst2,lst3 = [\" \",\" \",\" \"],[\" \",\" \",\" \"],[\" \",\" \",\" \"] ### initialising list\n",
    "\n",
    "display(lst1,lst2,lst3)\n",
    "\n",
    "handle1 , handle2 = handle_assignment()\n",
    "\n",
    "lis = choose_sign(handle1, handle2)\n",
    "\n",
    "message(lis)\n",
    "\n",
    "display(lst1,lst2,lst3)\n",
    "\n",
    "input_it(lis,lst1,lst2,lst3)"
   ]
  }
 ],
 "metadata": {
  "kernelspec": {
   "display_name": "Python 3",
   "language": "python",
   "name": "python3"
  },
  "language_info": {
   "codemirror_mode": {
    "name": "ipython",
    "version": 3
   },
   "file_extension": ".py",
   "mimetype": "text/x-python",
   "name": "python",
   "nbconvert_exporter": "python",
   "pygments_lexer": "ipython3",
   "version": "3.8.3"
  }
 },
 "nbformat": 4,
 "nbformat_minor": 4
}
