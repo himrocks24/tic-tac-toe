{
 "cells": [
  {
   "cell_type": "markdown",
   "metadata": {},
   "source": [
    "### Displaying Information"
   ]
  },
  {
   "cell_type": "code",
   "execution_count": 1,
   "metadata": {},
   "outputs": [],
   "source": [
    "def display(row1,row2,row3):\n",
    "    print(row1)\n",
    "    print(row2)\n",
    "    print(row3)\n",
    "### row1,2,3 are lists\n"
   ]
  },
  {
   "cell_type": "code",
   "execution_count": 2,
   "metadata": {},
   "outputs": [],
   "source": [
    "### initially \n",
    "row1 = [\" \",\" \",\" \"]\n",
    "row2 = [\" \",\" \",\" \"]\n",
    "row3 = [\" \",\" \",\" \"]\n"
   ]
  },
  {
   "cell_type": "code",
   "execution_count": 4,
   "metadata": {},
   "outputs": [
    {
     "name": "stdout",
     "output_type": "stream",
     "text": [
      "[' ', ' ', ' ']\n",
      "[' ', ' ', ' ']\n",
      "[' ', ' ', ' ']\n"
     ]
    }
   ],
   "source": [
    "display(row1,row2,row3)"
   ]
  },
  {
   "cell_type": "markdown",
   "metadata": {},
   "source": [
    "### Validating User Input"
   ]
  },
  {
   "cell_type": "code",
   "execution_count": 60,
   "metadata": {},
   "outputs": [],
   "source": [
    "from IPython.display import clear_output\n",
    "clear_output()"
   ]
  },
  {
   "cell_type": "code",
   "execution_count": 63,
   "metadata": {},
   "outputs": [],
   "source": [
    "def user_choice():\n",
    "    \n",
    "    choice = \"ass\" \n",
    "    # While the choice is not a digit, keep asking for input.\n",
    "    while choice.isdigit() == False or choice not in range(1,10):\n",
    "        \n",
    "        choice = input(\"Enter an integer between 1-9(inclusive) :\")\n",
    "            # Error Message Check\n",
    "        if choice.isdigit() == False:\n",
    "            print(\"Sorry, but you did not enter an integer. Please try again.\")\n",
    "            \n",
    "        else:\n",
    "            if int(choice) in range(1,10):\n",
    "                return int(choice)\n",
    "            else:\n",
    "                    # Error Message Check\n",
    "                print(\"Sorry, but you are out of the acceptable range. Please try again.\")\n",
    "     \n",
    "    clear_output()\n",
    "    return int(choice)\n",
    "            \n",
    "    "
   ]
  },
  {
   "cell_type": "code",
   "execution_count": 62,
   "metadata": {
    "scrolled": true
   },
   "outputs": [
    {
     "name": "stdout",
     "output_type": "stream",
     "text": [
      "Enter an integer between 1-9(inclusive) :66\n",
      "Sorry, but you did not enter an integer. Please try again.\n",
      "Enter an integer between 1-9(inclusive) :626\n",
      "Sorry, but you did not enter an integer. Please try again.\n",
      "Enter an integer between 1-9(inclusive) :3\n"
     ]
    },
    {
     "data": {
      "text/plain": [
       "3"
      ]
     },
     "execution_count": 62,
     "metadata": {},
     "output_type": "execute_result"
    }
   ],
   "source": [
    "user_choice()"
   ]
  },
  {
   "cell_type": "markdown",
   "metadata": {},
   "source": [
    "### SIMPLE USER INTERACTION"
   ]
  },
  {
   "cell_type": "markdown",
   "metadata": {},
   "source": [
    "### Write a program which does the following things:-\n",
    "    1.  display a list consisting of just three items.\n",
    "    2.the user choose an index position and an input value.\n",
    "    3. that that index position is both within the range of zero one and two.\n",
    "    4. And that happens to be a digit.\n",
    "\n",
    "    Then once they've chosen a valid index position, we'll also have them choose just a string to input into that position.\n",
    "\n",
    "    Then we're going to replace the value of that list with the user's chosen input value.\n",
    "\n",
    "    And we'll also check to see if the user wants to exit out of this game at any time."
   ]
  },
  {
   "cell_type": "code",
   "execution_count": 95,
   "metadata": {},
   "outputs": [],
   "source": [
    "def show_list(arr):\n",
    "    print(arr)"
   ]
  },
  {
   "cell_type": "code",
   "execution_count": 99,
   "metadata": {},
   "outputs": [],
   "source": [
    "def choose_index_and_value(): ### index=> 0,1 or 2 \n",
    "    index =\"ass\"  ### initializing the loop with a string so that the while loop gets executed\n",
    "    \n",
    "    ### while index is not in the given range keep asking for the input\n",
    "    while index not in range(0,3):\n",
    "        \n",
    "        index = input(\"Enter the index(0,1 or 2) at which you want to replace the string : \\n\")\n",
    "        \n",
    "        ## Digit Check\n",
    "        if index.isdigit() == False:\n",
    "            print(\"Sorry, but you did not enter an integer. Please try again. \\n\")\n",
    "        else:\n",
    "        ### Range Check\n",
    "            if int(index) in range(0,3):\n",
    "                break\n",
    "            else:\n",
    "                print(\"Sorry, but you did not enter the correct index. Please try again.\\n\")\n",
    "    updated_index = int(index)\n",
    "    value = input(\"NOW, Enter the value which you want at {}th index : \\n\".format(updated_index))\n",
    "    return updated_index,value"
   ]
  },
  {
   "cell_type": "code",
   "execution_count": 103,
   "metadata": {},
   "outputs": [],
   "source": [
    "## Driver code/main()\n",
    "def play():\n",
    "    decoy = 420\n",
    "    arr = [\" \",\" \",\" \"]\n",
    "    ### while the value of decider is 1 execute the below intended code\n",
    "    while decoy == 420:\n",
    "        decider = input(\"Press '1' to play & Press '0' to abort : \\n\")\n",
    "        if int(decider)==0:\n",
    "            break\n",
    "        elif int(decider) == 1:\n",
    "            show_list(arr)\n",
    "            index , value = choose_index_and_value()\n",
    "\n",
    "            ### actually mutating the value in the list i.e making changes in the list\n",
    "            arr[index] = value\n",
    "            show_list(arr)\n",
    "        else:\n",
    "            print(\"Please enter a valid option!!\")"
   ]
  },
  {
   "cell_type": "code",
   "execution_count": 105,
   "metadata": {},
   "outputs": [
    {
     "name": "stdout",
     "output_type": "stream",
     "text": [
      "Press '1' to play & Press '0' to abort : \n",
      "1\n",
      "[' ', ' ', ' ']\n",
      "Enter the index(0,1 or 2) at which you want to replace the string : \n",
      "2\n",
      "NOW, Enter the value which you want at 2th index : \n",
      "55555555555555555555555555555555555\n",
      "[' ', ' ', '55555555555555555555555555555555555']\n",
      "Press '1' to play & Press '0' to abort : \n",
      "0\n"
     ]
    }
   ],
   "source": [
    "play()"
   ]
  }
 ],
 "metadata": {
  "kernelspec": {
   "display_name": "Python 3",
   "language": "python",
   "name": "python3"
  },
  "language_info": {
   "codemirror_mode": {
    "name": "ipython",
    "version": 3
   },
   "file_extension": ".py",
   "mimetype": "text/x-python",
   "name": "python",
   "nbconvert_exporter": "python",
   "pygments_lexer": "ipython3",
   "version": "3.8.3"
  }
 },
 "nbformat": 4,
 "nbformat_minor": 4
}
